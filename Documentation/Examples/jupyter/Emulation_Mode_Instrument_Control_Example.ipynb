{
 "cells": [
  {
   "cell_type": "markdown",
   "metadata": {},
   "source": [
    "# Example of Emulated Instrument\n",
    "When an instrument is loaded but it can be found the class moves to a emulated instrument mode that logs write and read commands"
   ]
  },
  {
   "cell_type": "code",
   "execution_count": 1,
   "metadata": {
    "collapsed": false
   },
   "outputs": [
    {
     "name": "stdout",
     "output_type": "stream",
     "text": [
      "Importing pyMez, this should take roughly 30 seconds\n",
      "Importing Code.DataHandlers.GeneralModels\n",
      "It took 0.253117 s to import Code.DataHandlers.GeneralModels\n",
      "Importing Code.DataHandlers.HTMLModels\n",
      "It took 0.061085 s to import Code.DataHandlers.HTMLModels\n",
      "Importing Code.DataHandlers.NISTModels\n",
      "It took 0.715449 s to import Code.DataHandlers.NISTModels\n",
      "Importing Code.DataHandlers.TouchstoneModels\n",
      "It took 0.000335 s to import Code.DataHandlers.TouchstoneModels\n",
      "Importing Code.DataHandlers.XMLModels\n",
      "It took 0.035086 s to import Code.DataHandlers.XMLModels\n",
      "Importing Code.DataHandlers.ZipModels\n",
      "It took 0.002953 s to import Code.DataHandlers.ZipModels\n",
      "Importing Code.InstrumentControl.Experiments\n",
      "FAILED to import file!\n",
      "Moving to parsing unknown schema\n",
      "C:\\Users\\sandersa\\.conda\\envs\\pyMez\\Lib\\site-packages\\pyMez\\Code\\DataHandlers\\Tests\\Line_4909_WR15_Wave_Parameters_Port2_20180313_001.w1p sucessfully parsed\n",
      "FAILED to import file!\n",
      "Moving to parsing unknown schema\n",
      "C:\\Users\\sandersa\\.conda\\envs\\pyMez\\Lib\\site-packages\\pyMez\\Code\\DataHandlers\\Tests\\Line_5079_WR15_Wave_Parameters_20180313_001.w2p sucessfully parsed\n",
      "It took 1.226439 s to import Code.InstrumentControl.Experiments\n",
      "Importing Code.InstrumentControl.Instruments\n",
      "It took 0.000877 s to import Code.InstrumentControl.Instruments\n",
      "Importing Code.Utils.Names\n",
      "It took 0.000109 s to import Code.Utils.Names\n",
      "It took 2.2955 s to import all of the active modules\n"
     ]
    }
   ],
   "source": [
    "from pyMez import *"
   ]
  },
  {
   "cell_type": "code",
   "execution_count": 2,
   "metadata": {
    "collapsed": false,
    "scrolled": true
   },
   "outputs": [
    {
     "name": "stdout",
     "output_type": "stream",
     "text": [
      "Unable to load resource entering emulation mode ...\n"
     ]
    }
   ],
   "source": [
    "# This loads the sheet that has GPIB::16 address\n",
    "emulated_instrument=VisaInstrument(\"GPIB::16\")"
   ]
  },
  {
   "cell_type": "code",
   "execution_count": 3,
   "metadata": {
    "collapsed": false
   },
   "outputs": [
    {
     "data": {
      "text/plain": [
       "'Agilent Technologies,E8361A,US43140754,A.07.50.67'"
      ]
     },
     "execution_count": 3,
     "metadata": {},
     "output_type": "execute_result"
    }
   ],
   "source": [
    "# This is the idn established on the xml description sheet\n",
    "emulated_instrument.idn"
   ]
  },
  {
   "cell_type": "code",
   "execution_count": 4,
   "metadata": {
    "collapsed": false
   },
   "outputs": [
    {
     "data": {
      "text/plain": [
       "{'SENS:BAND': 'Buffer Read at 2025-04-10T05:47:44.788956',\n",
       " 'SENS:AVER': 'Buffer Read at 2025-04-10T05:47:44.790224',\n",
       " 'SOUR:POW:SLOP': 'Buffer Read at 2025-04-10T05:47:44.791569',\n",
       " 'SOUR:POW': 'Buffer Read at 2025-04-10T05:47:44.792627',\n",
       " 'SOUR:POW:CORR:STAT': 'Buffer Read at 2025-04-10T05:47:44.793862',\n",
       " 'SENS:CORR:STAT': 'Buffer Read at 2025-04-10T05:47:44.795426',\n",
       " 'SENS:SWE:TYPE': 'Buffer Read at 2025-04-10T05:47:44.796690'}"
      ]
     },
     "execution_count": 4,
     "metadata": {},
     "output_type": "execute_result"
    }
   ],
   "source": [
    "# This gets the default state defined in the xml sheet\n",
    "# instead of returning values it returns a buffer read and time stamp\n",
    "emulated_instrument.get_state()"
   ]
  },
  {
   "cell_type": "code",
   "execution_count": 5,
   "metadata": {
    "collapsed": true
   },
   "outputs": [],
   "source": [
    "# This is a fake write command\n",
    "emulated_instrument.write(\"MyFake:GPIB:COMMAND\")"
   ]
  },
  {
   "cell_type": "code",
   "execution_count": 6,
   "metadata": {
    "collapsed": false
   },
   "outputs": [
    {
     "data": {
      "text/plain": [
       "[{'Timestamp': '2025-04-10T05:47:41.139739',\n",
       "  'Action': 'self.write',\n",
       "  'Argument': 'SENS:BAND?',\n",
       "  'Response': None},\n",
       " {'Timestamp': '2025-04-10T05:47:41.139754',\n",
       "  'Action': 'self.read',\n",
       "  'Argument': None,\n",
       "  'Response': 'Buffer Read at 2025-04-10T05:47:41.139754'},\n",
       " {'Timestamp': '2025-04-10T05:47:41.140879',\n",
       "  'Action': 'self.write',\n",
       "  'Argument': 'SENS:AVER?',\n",
       "  'Response': None},\n",
       " {'Timestamp': '2025-04-10T05:47:41.140890',\n",
       "  'Action': 'self.read',\n",
       "  'Argument': None,\n",
       "  'Response': 'Buffer Read at 2025-04-10T05:47:41.140890'},\n",
       " {'Timestamp': '2025-04-10T05:47:41.141970',\n",
       "  'Action': 'self.write',\n",
       "  'Argument': 'SOUR:POW:SLOP?',\n",
       "  'Response': None},\n",
       " {'Timestamp': '2025-04-10T05:47:41.141976',\n",
       "  'Action': 'self.read',\n",
       "  'Argument': None,\n",
       "  'Response': 'Buffer Read at 2025-04-10T05:47:41.141976'},\n",
       " {'Timestamp': '2025-04-10T05:47:41.143050',\n",
       "  'Action': 'self.write',\n",
       "  'Argument': 'SOUR:POW?',\n",
       "  'Response': None},\n",
       " {'Timestamp': '2025-04-10T05:47:41.143056',\n",
       "  'Action': 'self.read',\n",
       "  'Argument': None,\n",
       "  'Response': 'Buffer Read at 2025-04-10T05:47:41.143056'},\n",
       " {'Timestamp': '2025-04-10T05:47:41.144154',\n",
       "  'Action': 'self.write',\n",
       "  'Argument': 'SOUR:POW:CORR:STAT?',\n",
       "  'Response': None},\n",
       " {'Timestamp': '2025-04-10T05:47:41.144160',\n",
       "  'Action': 'self.read',\n",
       "  'Argument': None,\n",
       "  'Response': 'Buffer Read at 2025-04-10T05:47:41.144160'},\n",
       " {'Timestamp': '2025-04-10T05:47:41.145236',\n",
       "  'Action': 'self.write',\n",
       "  'Argument': 'SENS:CORR:STAT?',\n",
       "  'Response': None},\n",
       " {'Timestamp': '2025-04-10T05:47:41.145241',\n",
       "  'Action': 'self.read',\n",
       "  'Argument': None,\n",
       "  'Response': 'Buffer Read at 2025-04-10T05:47:41.145241'},\n",
       " {'Timestamp': '2025-04-10T05:47:41.146326',\n",
       "  'Action': 'self.write',\n",
       "  'Argument': 'SENS:SWE:TYPE?',\n",
       "  'Response': None},\n",
       " {'Timestamp': '2025-04-10T05:47:41.146334',\n",
       "  'Action': 'self.read',\n",
       "  'Argument': None,\n",
       "  'Response': 'Buffer Read at 2025-04-10T05:47:41.146334'},\n",
       " {'Timestamp': '2025-04-10T05:47:41.147453',\n",
       "  'Action': 'self.write',\n",
       "  'Argument': 'SENS:BAND?',\n",
       "  'Response': None},\n",
       " {'Timestamp': '2025-04-10T05:47:41.147461',\n",
       "  'Action': 'self.read',\n",
       "  'Argument': None,\n",
       "  'Response': 'Buffer Read at 2025-04-10T05:47:41.147461'},\n",
       " {'Timestamp': '2025-04-10T05:47:41.148548',\n",
       "  'Action': 'self.write',\n",
       "  'Argument': 'SENS:AVER?',\n",
       "  'Response': None},\n",
       " {'Timestamp': '2025-04-10T05:47:41.148555',\n",
       "  'Action': 'self.read',\n",
       "  'Argument': None,\n",
       "  'Response': 'Buffer Read at 2025-04-10T05:47:41.148555'},\n",
       " {'Timestamp': '2025-04-10T05:47:41.149643',\n",
       "  'Action': 'self.write',\n",
       "  'Argument': 'SOUR:POW:SLOP?',\n",
       "  'Response': None},\n",
       " {'Timestamp': '2025-04-10T05:47:41.149656',\n",
       "  'Action': 'self.read',\n",
       "  'Argument': None,\n",
       "  'Response': 'Buffer Read at 2025-04-10T05:47:41.149656'},\n",
       " {'Timestamp': '2025-04-10T05:47:41.150836',\n",
       "  'Action': 'self.write',\n",
       "  'Argument': 'SOUR:POW?',\n",
       "  'Response': None},\n",
       " {'Timestamp': '2025-04-10T05:47:41.150849',\n",
       "  'Action': 'self.read',\n",
       "  'Argument': None,\n",
       "  'Response': 'Buffer Read at 2025-04-10T05:47:41.150849'},\n",
       " {'Timestamp': '2025-04-10T05:47:41.152303',\n",
       "  'Action': 'self.write',\n",
       "  'Argument': 'SOUR:POW:CORR:STAT?',\n",
       "  'Response': None},\n",
       " {'Timestamp': '2025-04-10T05:47:41.152344',\n",
       "  'Action': 'self.read',\n",
       "  'Argument': None,\n",
       "  'Response': 'Buffer Read at 2025-04-10T05:47:41.152344'},\n",
       " {'Timestamp': '2025-04-10T05:47:41.153679',\n",
       "  'Action': 'self.write',\n",
       "  'Argument': 'SENS:CORR:STAT?',\n",
       "  'Response': None},\n",
       " {'Timestamp': '2025-04-10T05:47:41.153737',\n",
       "  'Action': 'self.read',\n",
       "  'Argument': None,\n",
       "  'Response': 'Buffer Read at 2025-04-10T05:47:41.153737'},\n",
       " {'Timestamp': '2025-04-10T05:47:41.154894',\n",
       "  'Action': 'self.write',\n",
       "  'Argument': 'SENS:SWE:TYPE?',\n",
       "  'Response': None},\n",
       " {'Timestamp': '2025-04-10T05:47:41.154910',\n",
       "  'Action': 'self.read',\n",
       "  'Argument': None,\n",
       "  'Response': 'Buffer Read at 2025-04-10T05:47:41.154910'},\n",
       " {'Timestamp': '2025-04-10T05:47:44.788943',\n",
       "  'Action': 'self.write',\n",
       "  'Argument': 'SENS:BAND?',\n",
       "  'Response': None},\n",
       " {'Timestamp': '2025-04-10T05:47:44.788956',\n",
       "  'Action': 'self.read',\n",
       "  'Argument': None,\n",
       "  'Response': 'Buffer Read at 2025-04-10T05:47:44.788956'},\n",
       " {'Timestamp': '2025-04-10T05:47:44.790209',\n",
       "  'Action': 'self.write',\n",
       "  'Argument': 'SENS:AVER?',\n",
       "  'Response': None},\n",
       " {'Timestamp': '2025-04-10T05:47:44.790224',\n",
       "  'Action': 'self.read',\n",
       "  'Argument': None,\n",
       "  'Response': 'Buffer Read at 2025-04-10T05:47:44.790224'},\n",
       " {'Timestamp': '2025-04-10T05:47:44.791558',\n",
       "  'Action': 'self.write',\n",
       "  'Argument': 'SOUR:POW:SLOP?',\n",
       "  'Response': None},\n",
       " {'Timestamp': '2025-04-10T05:47:44.791569',\n",
       "  'Action': 'self.read',\n",
       "  'Argument': None,\n",
       "  'Response': 'Buffer Read at 2025-04-10T05:47:44.791569'},\n",
       " {'Timestamp': '2025-04-10T05:47:44.792618',\n",
       "  'Action': 'self.write',\n",
       "  'Argument': 'SOUR:POW?',\n",
       "  'Response': None},\n",
       " {'Timestamp': '2025-04-10T05:47:44.792627',\n",
       "  'Action': 'self.read',\n",
       "  'Argument': None,\n",
       "  'Response': 'Buffer Read at 2025-04-10T05:47:44.792627'},\n",
       " {'Timestamp': '2025-04-10T05:47:44.793850',\n",
       "  'Action': 'self.write',\n",
       "  'Argument': 'SOUR:POW:CORR:STAT?',\n",
       "  'Response': None},\n",
       " {'Timestamp': '2025-04-10T05:47:44.793862',\n",
       "  'Action': 'self.read',\n",
       "  'Argument': None,\n",
       "  'Response': 'Buffer Read at 2025-04-10T05:47:44.793862'},\n",
       " {'Timestamp': '2025-04-10T05:47:44.795413',\n",
       "  'Action': 'self.write',\n",
       "  'Argument': 'SENS:CORR:STAT?',\n",
       "  'Response': None},\n",
       " {'Timestamp': '2025-04-10T05:47:44.795426',\n",
       "  'Action': 'self.read',\n",
       "  'Argument': None,\n",
       "  'Response': 'Buffer Read at 2025-04-10T05:47:44.795426'},\n",
       " {'Timestamp': '2025-04-10T05:47:44.796677',\n",
       "  'Action': 'self.write',\n",
       "  'Argument': 'SENS:SWE:TYPE?',\n",
       "  'Response': None},\n",
       " {'Timestamp': '2025-04-10T05:47:44.796690',\n",
       "  'Action': 'self.read',\n",
       "  'Argument': None,\n",
       "  'Response': 'Buffer Read at 2025-04-10T05:47:44.796690'},\n",
       " {'Timestamp': '2025-04-10T05:47:46.240453',\n",
       "  'Action': 'self.write',\n",
       "  'Argument': 'MyFake:GPIB:COMMAND',\n",
       "  'Response': None}]"
      ]
     },
     "execution_count": 6,
     "metadata": {},
     "output_type": "execute_result"
    }
   ],
   "source": [
    "# The history attribute saves a log of all communication\n",
    "emulated_instrument.history"
   ]
  },
  {
   "cell_type": "code",
   "execution_count": 7,
   "metadata": {
    "collapsed": false
   },
   "outputs": [
    {
     "data": {
      "text/plain": [
       "True"
      ]
     },
     "execution_count": 7,
     "metadata": {},
     "output_type": "execute_result"
    }
   ],
   "source": [
    "# the emulation mode attribute is set to true so that derived classes can integrate it\n",
    "emulated_instrument.emulation_mode"
   ]
  },
  {
   "cell_type": "code",
   "execution_count": null,
   "metadata": {},
   "outputs": [],
   "source": []
  }
 ],
 "metadata": {
  "kernelspec": {
   "display_name": "Python 3",
   "language": "python",
   "name": "python3"
  },
  "language_info": {
   "codemirror_mode": {
    "name": "ipython",
    "version": 3
   },
   "file_extension": ".py",
   "mimetype": "text/x-python",
   "name": "python",
   "nbconvert_exporter": "python",
   "pygments_lexer": "ipython3",
   "version": "3.13.2"
  }
 },
 "nbformat": 4,
 "nbformat_minor": 2
}
