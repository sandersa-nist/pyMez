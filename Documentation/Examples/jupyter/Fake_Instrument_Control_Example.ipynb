{
 "cells": [
  {
   "cell_type": "markdown",
   "metadata": {},
   "source": [
    "# Example of Fake Instrument\n",
    "When an instrument is loaded but it can be found the class moves to a fake instrument mode that logs write and read commands"
   ]
  },
  {
   "cell_type": "code",
   "execution_count": 1,
   "metadata": {},
   "outputs": [
    {
     "name": "stdout",
     "output_type": "stream",
     "text": [
      "Importing pyMez, this should take roughly 30 seconds\n",
      "Importing Code.DataHandlers.GeneralModels\n",
      "It took 0.598315 s to import Code.DataHandlers.GeneralModels\n",
      "Importing Code.DataHandlers.HTMLModels\n",
      "It took 0.096461 s to import Code.DataHandlers.HTMLModels\n",
      "Importing Code.DataHandlers.NISTModels\n",
      "It took 2.331259 s to import Code.DataHandlers.NISTModels\n",
      "Importing Code.DataHandlers.TouchstoneModels\n",
      "It took 0.000877 s to import Code.DataHandlers.TouchstoneModels\n",
      "Importing Code.DataHandlers.XMLModels\n",
      "It took 0.065692 s to import Code.DataHandlers.XMLModels\n",
      "Importing Code.DataHandlers.ZipModels\n",
      "It took 0.003285 s to import Code.DataHandlers.ZipModels\n",
      "Importing Code.InstrumentControl.Experiments\n",
      "FAILED to import file!\n",
      "Moving to parsing unknown schema\n",
      "C:\\Users\\sandersa\\.conda\\envs\\pyMez\\Lib\\site-packages\\pyMez\\Code\\DataHandlers\\Tests\\Line_4909_WR15_Wave_Parameters_Port2_20180313_001.w1p sucessfully parsed\n",
      "FAILED to import file!\n",
      "Moving to parsing unknown schema\n",
      "C:\\Users\\sandersa\\.conda\\envs\\pyMez\\Lib\\site-packages\\pyMez\\Code\\DataHandlers\\Tests\\Line_5079_WR15_Wave_Parameters_20180313_001.w2p sucessfully parsed\n",
      "It took 2.658528 s to import Code.InstrumentControl.Experiments\n",
      "Importing Code.InstrumentControl.Instruments\n",
      "It took 0.000645 s to import Code.InstrumentControl.Instruments\n",
      "Importing Code.Utils.Names\n",
      "It took 0.000167 s to import Code.Utils.Names\n",
      "It took 5.755298 s to import all of the active modules\n"
     ]
    }
   ],
   "source": [
    "from pyMez import *"
   ]
  },
  {
   "cell_type": "code",
   "execution_count": 2,
   "metadata": {
    "scrolled": true
   },
   "outputs": [
    {
     "name": "stdout",
     "output_type": "stream",
     "text": [
      "Unable to load resource entering emulation mode ...\n"
     ]
    }
   ],
   "source": [
    "# This loads the sheet that has GPIB::16 address\n",
    "fake_instrument=VisaInstrument(\"GPIB::16\")"
   ]
  },
  {
   "cell_type": "code",
   "execution_count": 3,
   "metadata": {},
   "outputs": [
    {
     "data": {
      "text/plain": [
       "'Agilent Technologies,E8361A,US43140754,A.07.50.67'"
      ]
     },
     "execution_count": 3,
     "metadata": {},
     "output_type": "execute_result"
    }
   ],
   "source": [
    "# This is the idn established on the xml description sheet\n",
    "fake_instrument.idn"
   ]
  },
  {
   "cell_type": "code",
   "execution_count": 4,
   "metadata": {},
   "outputs": [
    {
     "data": {
      "text/plain": [
       "{'SENS:BAND': 'Buffer Read at 2025-04-10T05:53:31.032646',\n",
       " 'SENS:AVER': 'Buffer Read at 2025-04-10T05:53:31.033866',\n",
       " 'SOUR:POW:SLOP': 'Buffer Read at 2025-04-10T05:53:31.035050',\n",
       " 'SOUR:POW': 'Buffer Read at 2025-04-10T05:53:31.036226',\n",
       " 'SOUR:POW:CORR:STAT': 'Buffer Read at 2025-04-10T05:53:31.037391',\n",
       " 'SENS:CORR:STAT': 'Buffer Read at 2025-04-10T05:53:31.038561',\n",
       " 'SENS:SWE:TYPE': 'Buffer Read at 2025-04-10T05:53:31.039753'}"
      ]
     },
     "execution_count": 4,
     "metadata": {},
     "output_type": "execute_result"
    }
   ],
   "source": [
    "# This gets the default state defined in the xml sheet\n",
    "# instead of returning values it returns a buffer read and time stamp\n",
    "fake_instrument.get_state()"
   ]
  },
  {
   "cell_type": "code",
   "execution_count": 5,
   "metadata": {},
   "outputs": [],
   "source": [
    "# This is a fake write command\n",
    "fake_instrument.write(\"MyFake:GPIB:COMMAND\")"
   ]
  },
  {
   "cell_type": "code",
   "execution_count": 6,
   "metadata": {},
   "outputs": [
    {
     "data": {
      "text/plain": [
       "[{'Timestamp': '2025-04-10T05:53:30.934254',\n",
       "  'Action': 'self.write',\n",
       "  'Argument': 'SENS:BAND?',\n",
       "  'Response': None},\n",
       " {'Timestamp': '2025-04-10T05:53:30.934296',\n",
       "  'Action': 'self.read',\n",
       "  'Argument': None,\n",
       "  'Response': 'Buffer Read at 2025-04-10T05:53:30.934296'},\n",
       " {'Timestamp': '2025-04-10T05:53:30.937539',\n",
       "  'Action': 'self.write',\n",
       "  'Argument': 'SENS:AVER?',\n",
       "  'Response': None},\n",
       " {'Timestamp': '2025-04-10T05:53:30.937578',\n",
       "  'Action': 'self.read',\n",
       "  'Argument': None,\n",
       "  'Response': 'Buffer Read at 2025-04-10T05:53:30.937578'},\n",
       " {'Timestamp': '2025-04-10T05:53:30.938956',\n",
       "  'Action': 'self.write',\n",
       "  'Argument': 'SOUR:POW:SLOP?',\n",
       "  'Response': None},\n",
       " {'Timestamp': '2025-04-10T05:53:30.938988',\n",
       "  'Action': 'self.read',\n",
       "  'Argument': None,\n",
       "  'Response': 'Buffer Read at 2025-04-10T05:53:30.938988'},\n",
       " {'Timestamp': '2025-04-10T05:53:30.940344',\n",
       "  'Action': 'self.write',\n",
       "  'Argument': 'SOUR:POW?',\n",
       "  'Response': None},\n",
       " {'Timestamp': '2025-04-10T05:53:30.940384',\n",
       "  'Action': 'self.read',\n",
       "  'Argument': None,\n",
       "  'Response': 'Buffer Read at 2025-04-10T05:53:30.940384'},\n",
       " {'Timestamp': '2025-04-10T05:53:30.941643',\n",
       "  'Action': 'self.write',\n",
       "  'Argument': 'SOUR:POW:CORR:STAT?',\n",
       "  'Response': None},\n",
       " {'Timestamp': '2025-04-10T05:53:30.941675',\n",
       "  'Action': 'self.read',\n",
       "  'Argument': None,\n",
       "  'Response': 'Buffer Read at 2025-04-10T05:53:30.941675'},\n",
       " {'Timestamp': '2025-04-10T05:53:30.943494',\n",
       "  'Action': 'self.write',\n",
       "  'Argument': 'SENS:CORR:STAT?',\n",
       "  'Response': None},\n",
       " {'Timestamp': '2025-04-10T05:53:30.943527',\n",
       "  'Action': 'self.read',\n",
       "  'Argument': None,\n",
       "  'Response': 'Buffer Read at 2025-04-10T05:53:30.943527'},\n",
       " {'Timestamp': '2025-04-10T05:53:30.947558',\n",
       "  'Action': 'self.write',\n",
       "  'Argument': 'SENS:SWE:TYPE?',\n",
       "  'Response': None},\n",
       " {'Timestamp': '2025-04-10T05:53:30.947610',\n",
       "  'Action': 'self.read',\n",
       "  'Argument': None,\n",
       "  'Response': 'Buffer Read at 2025-04-10T05:53:30.947610'},\n",
       " {'Timestamp': '2025-04-10T05:53:30.949214',\n",
       "  'Action': 'self.write',\n",
       "  'Argument': 'SENS:BAND?',\n",
       "  'Response': None},\n",
       " {'Timestamp': '2025-04-10T05:53:30.949245',\n",
       "  'Action': 'self.read',\n",
       "  'Argument': None,\n",
       "  'Response': 'Buffer Read at 2025-04-10T05:53:30.949245'},\n",
       " {'Timestamp': '2025-04-10T05:53:30.950449',\n",
       "  'Action': 'self.write',\n",
       "  'Argument': 'SENS:AVER?',\n",
       "  'Response': None},\n",
       " {'Timestamp': '2025-04-10T05:53:30.950640',\n",
       "  'Action': 'self.read',\n",
       "  'Argument': None,\n",
       "  'Response': 'Buffer Read at 2025-04-10T05:53:30.950640'},\n",
       " {'Timestamp': '2025-04-10T05:53:30.952889',\n",
       "  'Action': 'self.write',\n",
       "  'Argument': 'SOUR:POW:SLOP?',\n",
       "  'Response': None},\n",
       " {'Timestamp': '2025-04-10T05:53:30.952919',\n",
       "  'Action': 'self.read',\n",
       "  'Argument': None,\n",
       "  'Response': 'Buffer Read at 2025-04-10T05:53:30.952919'},\n",
       " {'Timestamp': '2025-04-10T05:53:30.954081',\n",
       "  'Action': 'self.write',\n",
       "  'Argument': 'SOUR:POW?',\n",
       "  'Response': None},\n",
       " {'Timestamp': '2025-04-10T05:53:30.954112',\n",
       "  'Action': 'self.read',\n",
       "  'Argument': None,\n",
       "  'Response': 'Buffer Read at 2025-04-10T05:53:30.954112'},\n",
       " {'Timestamp': '2025-04-10T05:53:30.955286',\n",
       "  'Action': 'self.write',\n",
       "  'Argument': 'SOUR:POW:CORR:STAT?',\n",
       "  'Response': None},\n",
       " {'Timestamp': '2025-04-10T05:53:30.955329',\n",
       "  'Action': 'self.read',\n",
       "  'Argument': None,\n",
       "  'Response': 'Buffer Read at 2025-04-10T05:53:30.955329'},\n",
       " {'Timestamp': '2025-04-10T05:53:30.957205',\n",
       "  'Action': 'self.write',\n",
       "  'Argument': 'SENS:CORR:STAT?',\n",
       "  'Response': None},\n",
       " {'Timestamp': '2025-04-10T05:53:30.957243',\n",
       "  'Action': 'self.read',\n",
       "  'Argument': None,\n",
       "  'Response': 'Buffer Read at 2025-04-10T05:53:30.957243'},\n",
       " {'Timestamp': '2025-04-10T05:53:30.958499',\n",
       "  'Action': 'self.write',\n",
       "  'Argument': 'SENS:SWE:TYPE?',\n",
       "  'Response': None},\n",
       " {'Timestamp': '2025-04-10T05:53:30.958728',\n",
       "  'Action': 'self.read',\n",
       "  'Argument': None,\n",
       "  'Response': 'Buffer Read at 2025-04-10T05:53:30.958728'},\n",
       " {'Timestamp': '2025-04-10T05:53:31.032612',\n",
       "  'Action': 'self.write',\n",
       "  'Argument': 'SENS:BAND?',\n",
       "  'Response': None},\n",
       " {'Timestamp': '2025-04-10T05:53:31.032646',\n",
       "  'Action': 'self.read',\n",
       "  'Argument': None,\n",
       "  'Response': 'Buffer Read at 2025-04-10T05:53:31.032646'},\n",
       " {'Timestamp': '2025-04-10T05:53:31.033827',\n",
       "  'Action': 'self.write',\n",
       "  'Argument': 'SENS:AVER?',\n",
       "  'Response': None},\n",
       " {'Timestamp': '2025-04-10T05:53:31.033866',\n",
       "  'Action': 'self.read',\n",
       "  'Argument': None,\n",
       "  'Response': 'Buffer Read at 2025-04-10T05:53:31.033866'},\n",
       " {'Timestamp': '2025-04-10T05:53:31.035022',\n",
       "  'Action': 'self.write',\n",
       "  'Argument': 'SOUR:POW:SLOP?',\n",
       "  'Response': None},\n",
       " {'Timestamp': '2025-04-10T05:53:31.035050',\n",
       "  'Action': 'self.read',\n",
       "  'Argument': None,\n",
       "  'Response': 'Buffer Read at 2025-04-10T05:53:31.035050'},\n",
       " {'Timestamp': '2025-04-10T05:53:31.036199',\n",
       "  'Action': 'self.write',\n",
       "  'Argument': 'SOUR:POW?',\n",
       "  'Response': None},\n",
       " {'Timestamp': '2025-04-10T05:53:31.036226',\n",
       "  'Action': 'self.read',\n",
       "  'Argument': None,\n",
       "  'Response': 'Buffer Read at 2025-04-10T05:53:31.036226'},\n",
       " {'Timestamp': '2025-04-10T05:53:31.037364',\n",
       "  'Action': 'self.write',\n",
       "  'Argument': 'SOUR:POW:CORR:STAT?',\n",
       "  'Response': None},\n",
       " {'Timestamp': '2025-04-10T05:53:31.037391',\n",
       "  'Action': 'self.read',\n",
       "  'Argument': None,\n",
       "  'Response': 'Buffer Read at 2025-04-10T05:53:31.037391'},\n",
       " {'Timestamp': '2025-04-10T05:53:31.038529',\n",
       "  'Action': 'self.write',\n",
       "  'Argument': 'SENS:CORR:STAT?',\n",
       "  'Response': None},\n",
       " {'Timestamp': '2025-04-10T05:53:31.038561',\n",
       "  'Action': 'self.read',\n",
       "  'Argument': None,\n",
       "  'Response': 'Buffer Read at 2025-04-10T05:53:31.038561'},\n",
       " {'Timestamp': '2025-04-10T05:53:31.039730',\n",
       "  'Action': 'self.write',\n",
       "  'Argument': 'SENS:SWE:TYPE?',\n",
       "  'Response': None},\n",
       " {'Timestamp': '2025-04-10T05:53:31.039753',\n",
       "  'Action': 'self.read',\n",
       "  'Argument': None,\n",
       "  'Response': 'Buffer Read at 2025-04-10T05:53:31.039753'},\n",
       " {'Timestamp': '2025-04-10T05:53:45.578388',\n",
       "  'Action': 'self.write',\n",
       "  'Argument': 'MyFake:GPIB:COMMAND',\n",
       "  'Response': None}]"
      ]
     },
     "execution_count": 6,
     "metadata": {},
     "output_type": "execute_result"
    }
   ],
   "source": [
    "# The history attribute saves a log of all communication\n",
    "fake_instrument.history"
   ]
  },
  {
   "cell_type": "code",
   "execution_count": 7,
   "metadata": {},
   "outputs": [
    {
     "ename": "AttributeError",
     "evalue": "'VisaInstrument' object has no attribute 'fake_mode'",
     "output_type": "error",
     "traceback": [
      "\u001b[31m---------------------------------------------------------------------------\u001b[39m",
      "\u001b[31mAttributeError\u001b[39m                            Traceback (most recent call last)",
      "\u001b[36mCell\u001b[39m\u001b[36m \u001b[39m\u001b[32mIn[7]\u001b[39m\u001b[32m, line 2\u001b[39m\n\u001b[32m      1\u001b[39m \u001b[38;5;66;03m# the fake mode attribute is set to true so that derived classes can integrate it\u001b[39;00m\n\u001b[32m----> \u001b[39m\u001b[32m2\u001b[39m \u001b[43mfake_instrument\u001b[49m\u001b[43m.\u001b[49m\u001b[43mfake_mode\u001b[49m\n",
      "\u001b[31mAttributeError\u001b[39m: 'VisaInstrument' object has no attribute 'fake_mode'"
     ]
    }
   ],
   "source": [
    "# the fake mode attribute is set to true so that derived classes can integrate it\n",
    "fake_instrument.fake_mode"
   ]
  },
  {
   "cell_type": "code",
   "execution_count": null,
   "metadata": {},
   "outputs": [],
   "source": []
  }
 ],
 "metadata": {
  "kernelspec": {
   "display_name": "Python 3",
   "language": "python",
   "name": "python3"
  },
  "language_info": {
   "codemirror_mode": {
    "name": "ipython",
    "version": 3
   },
   "file_extension": ".py",
   "mimetype": "text/x-python",
   "name": "python",
   "nbconvert_exporter": "python",
   "pygments_lexer": "ipython3",
   "version": "3.13.2"
  }
 },
 "nbformat": 4,
 "nbformat_minor": 2
}
