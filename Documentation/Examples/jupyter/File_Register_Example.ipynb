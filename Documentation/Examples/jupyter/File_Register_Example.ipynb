{
 "cells": [
  {
   "cell_type": "markdown",
   "metadata": {},
   "source": [
    "# File Register Example\n",
    "How to use an XML based file register class. "
   ]
  },
  {
   "cell_type": "markdown",
   "metadata": {},
   "source": [
    "## Import pyMez \n",
    "The XMLModels module (pyMez.Code.DataHandlers.XMLModels) has the FileRegister class."
   ]
  },
  {
   "cell_type": "code",
   "execution_count": 1,
   "metadata": {
    "collapsed": false
   },
   "outputs": [
    {
     "name": "stdout",
     "output_type": "stream",
     "text": [
      "Importing pyMez, this should take roughly 30 seconds\n",
      "Importing Code.DataHandlers.GeneralModels\n",
      "It took 0.25617 s to import Code.DataHandlers.GeneralModels\n",
      "Importing Code.DataHandlers.HTMLModels\n",
      "It took 0.060239 s to import Code.DataHandlers.HTMLModels\n",
      "Importing Code.DataHandlers.NISTModels\n",
      "It took 2.061349 s to import Code.DataHandlers.NISTModels\n",
      "Importing Code.DataHandlers.TouchstoneModels\n",
      "It took 0.000991 s to import Code.DataHandlers.TouchstoneModels\n",
      "Importing Code.DataHandlers.XMLModels\n",
      "It took 0.112672 s to import Code.DataHandlers.XMLModels\n",
      "Importing Code.DataHandlers.ZipModels\n",
      "It took 0.006 s to import Code.DataHandlers.ZipModels\n",
      "Importing Code.InstrumentControl.Experiments\n",
      "FAILED to import file!\n",
      "Moving to parsing unknown schema\n",
      "C:\\Users\\sandersa\\.conda\\envs\\pyMez\\Lib\\site-packages\\pyMez\\Code\\DataHandlers\\Tests\\Line_4909_WR15_Wave_Parameters_Port2_20180313_001.w1p sucessfully parsed\n",
      "FAILED to import file!\n",
      "Moving to parsing unknown schema\n",
      "C:\\Users\\sandersa\\.conda\\envs\\pyMez\\Lib\\site-packages\\pyMez\\Code\\DataHandlers\\Tests\\Line_5079_WR15_Wave_Parameters_20180313_001.w2p sucessfully parsed\n",
      "It took 4.384359 s to import Code.InstrumentControl.Experiments\n",
      "Importing Code.InstrumentControl.Instruments\n",
      "It took 0.000918 s to import Code.InstrumentControl.Instruments\n",
      "Importing Code.Utils.Names\n",
      "It took 0.00024 s to import Code.Utils.Names\n",
      "It took 6.883028 s to import all of the active modules\n"
     ]
    }
   ],
   "source": [
    "from pyMez import *"
   ]
  },
  {
   "cell_type": "code",
   "execution_count": 2,
   "metadata": {
    "collapsed": true
   },
   "outputs": [],
   "source": [
    "# Create a new file register\n",
    "new_file_register=FileRegister()"
   ]
  },
  {
   "cell_type": "code",
   "execution_count": 3,
   "metadata": {
    "collapsed": true
   },
   "outputs": [],
   "source": [
    "# now add all the files in the current working directory\n",
    "new_file_register.add_tree(os.getcwd())"
   ]
  },
  {
   "cell_type": "code",
   "execution_count": 4,
   "metadata": {
    "collapsed": false
   },
   "outputs": [
    {
     "data": {
      "text/plain": [
       "{'Id': '132.163.218.222.11.11.11.11.11.11.11.11.11',\n",
       " 'Host': '675NASCTNLAP3.campus.nist.gov',\n",
       " 'Date': '2025-04-10T05:54:42.221303',\n",
       " 'URL': 'file:c:/Users/sandersa/VSCode Repos/pyMez/Documentation/Examples/jupyter/.ipynb_checkpoints',\n",
       " 'Type': 'Directory'}"
      ]
     },
     "execution_count": 4,
     "metadata": {},
     "output_type": "execute_result"
    }
   ],
   "source": [
    "# now we have created an xml sheet with all of the current files and directories and a ip like id\n",
    "new_file_register.get_data_dictionary_list()[0]"
   ]
  },
  {
   "cell_type": "code",
   "execution_count": 5,
   "metadata": {
    "collapsed": true
   },
   "outputs": [],
   "source": [
    "# we can create html and show it\n",
    "html_text=new_file_register.to_HTML(os.path.join(TESTS_DIRECTORY,\"../XSL/FR_STYLE.xsl\"))"
   ]
  },
  {
   "cell_type": "code",
   "execution_count": 6,
   "metadata": {
    "collapsed": true
   },
   "outputs": [],
   "source": [
    "html=HTMLBase(html_text=html_text)"
   ]
  },
  {
   "cell_type": "code",
   "execution_count": 7,
   "metadata": {
    "collapsed": false
   },
   "outputs": [
    {
     "name": "stdout",
     "output_type": "stream",
     "text": [
      "file://C:/Users/sandersa/AppData/Local/Temp/1/tmpljyrf77g.html\n"
     ]
    }
   ],
   "source": [
    "html.show()"
   ]
  },
  {
   "cell_type": "code",
   "execution_count": 8,
   "metadata": {
    "collapsed": true
   },
   "outputs": [],
   "source": [
    "# we can add another file\n",
    "new_file_register.add_entry(os.path.join(PYMEASURE_ROOT,\"Documentation/pyMez_Documentation.html\"))"
   ]
  },
  {
   "cell_type": "code",
   "execution_count": 9,
   "metadata": {
    "collapsed": false
   },
   "outputs": [
    {
     "data": {
      "text/plain": [
       "{'Id': '132.163.218.222.11.11.11.12.11.11.11.11.11.11.11.11.11.11.21',\n",
       " 'Host': '675NASCTNLAP3.campus.nist.gov',\n",
       " 'Date': '2025-04-10T05:55:31.171624',\n",
       " 'URL': 'file:c:/Users/sandersa/.conda/envs/pyMez/Lib/site-packages/pyMez/Code/InstrumentControl/../../Documentation/pyMez_Documentation.html',\n",
       " 'Type': 'Ordinary'}"
      ]
     },
     "execution_count": 9,
     "metadata": {},
     "output_type": "execute_result"
    }
   ],
   "source": [
    "# now we have a dictionary representation\n",
    "new_file_register.get_data_dictionary_list()[-1]"
   ]
  },
  {
   "cell_type": "code",
   "execution_count": 10,
   "metadata": {
    "collapsed": false
   },
   "outputs": [
    {
     "data": {
      "text/plain": [
       "['132.163.218.222.11.11.11.11.11.11.11.11.11',\n",
       " '675NASCTNLAP3.campus.nist.gov',\n",
       " '2025-04-10T05:54:42.221303',\n",
       " 'file:c:/Users/sandersa/VSCode Repos/pyMez/Documentation/Examples/jupyter/.ipynb_checkpoints',\n",
       " 'Directory']"
      ]
     },
     "execution_count": 10,
     "metadata": {},
     "output_type": "execute_result"
    }
   ],
   "source": [
    "# A list representation\n",
    "new_file_register.get_data()[0]"
   ]
  },
  {
   "cell_type": "code",
   "execution_count": 11,
   "metadata": {
    "collapsed": false
   },
   "outputs": [
    {
     "name": "stdout",
     "output_type": "stream",
     "text": [
      "<File Id=\"132.163.218.222.11.11.11.11.11.11.11.11.11\" Host=\"675NASCTNLAP3.campus.nist.gov\" Date=\"2025-04-10T05:54:42.221303\" URL=\"file:c:/Users/sandersa/VSCode Repos/pyMez/Documentation/Examples/jupyter/.ipynb_checkpoints\" Type=\"Directory\"/>\n"
     ]
    }
   ],
   "source": [
    "# and we can use xpath syntax\n",
    "print(new_file_register[\".//File\"][0])"
   ]
  },
  {
   "cell_type": "code",
   "execution_count": null,
   "metadata": {},
   "outputs": [],
   "source": []
  }
 ],
 "metadata": {
  "kernelspec": {
   "display_name": "Python 3",
   "language": "python",
   "name": "python3"
  },
  "language_info": {
   "codemirror_mode": {
    "name": "ipython",
    "version": 3
   },
   "file_extension": ".py",
   "mimetype": "text/x-python",
   "name": "python",
   "nbconvert_exporter": "python",
   "pygments_lexer": "ipython3",
   "version": "3.13.2"
  }
 },
 "nbformat": 4,
 "nbformat_minor": 2
}
